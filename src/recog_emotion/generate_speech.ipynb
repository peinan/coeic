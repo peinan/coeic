{
 "cells": [
  {
   "cell_type": "code",
   "execution_count": 3,
   "metadata": {
    "collapsed": true
   },
   "outputs": [],
   "source": [
    "# coding: utf-8\n",
    "\n",
    "import base64\n",
    "import json\n",
    "import requests\n",
    "URL = \"http://rospeex.nict.go.jp/nauth_json/jsServices/VoiceTraSS\"\n"
   ]
  },
  {
   "cell_type": "code",
   "execution_count": 5,
   "metadata": {
    "collapsed": true
   },
   "outputs": [],
   "source": [
    "ocr_texts = {\n",
    "        \"upload_img_path\": \"IMG_PATH\",\n",
    "        \"splited_frames\": [\n",
    "            {\n",
    "                \"frame_img\": \"frame_img_01\",\n",
    "                \"extracted_balloons\": [\n",
    "                    {\n",
    "                        \"balloon_img\": \"balloon_img1\",\n",
    "                        \"texts\": {\n",
    "                            \"text\": \"serif\",\n",
    "                            \"position\": {\n",
    "                                \"left_upper\": [\"x\",\" y\"],\n",
    "                                \"right_bottom\": [\"x\", \"y\"],\n",
    "                            }\n",
    "                        }\n",
    "                    },\n",
    "                ]\n",
    "            },{\n",
    "                \"frame_img\": \"frame_img_01\",\n",
    "                \"extracted_balloons\": [\n",
    "                    {\n",
    "                        \"balloon_img\": \"balloon_img1\",\n",
    "                        \"texts\": {\n",
    "                            \"text\": \"serif\",\n",
    "                            \"position\": {\n",
    "                                \"left_upper\": [\"x\", \"y\"],\n",
    "                                \"right_bottom\": [\"x\", \"y\"],\n",
    "                            }\n",
    "                        }\n",
    "                    },\n",
    "                ]\n",
    "            }\n",
    "        ]\n",
    "    }"
   ]
  },
  {
   "cell_type": "code",
   "execution_count": 15,
   "metadata": {},
   "outputs": [],
   "source": [
    "def generate_speech(ocr_texts):\n",
    "    i = 0\n",
    "    databodys, response, wav, texts = [], [], [], []\n",
    "\n",
    "    for n in range(0,len(ocr_texts[\"splited_frames\"])):\n",
    "        texts.append(ocr_texts[\"splited_frames\"][n][\"extracted_balloons\"][0][\"texts\"][\"text\"])\n",
    "\n",
    "    print(texts)\n",
    "\n",
    "    for text in texts:\n",
    "        databody = {\"method\": \"speak\",\n",
    "                    \"params\": [\"1.1\",\n",
    "                            {\"language\": \"ja\", \"text\":text,\n",
    "                                \"voiceType\": \"F117\", \"audioType\": \"audio/x-wav\"}]}\n",
    "\n",
    "        response.append(requests.post(URL, data=json.dumps(databody)))\n",
    "\n",
    "        tmp = json.loads(response[i].text)\n",
    "        wav.append(base64.decodebytes(tmp[\"result\"][\"audio\"].encode(\"utf-8\")))\n",
    "\n",
    "        i = i + 1\n",
    "\n",
    "    for n in range(0, len(wav)):\n",
    "        with open(str(n) + \".wav\", \"wb\") as f:\n",
    "            f.write(wav[n])\n",
    "\n"
   ]
  },
  {
   "cell_type": "code",
   "execution_count": 16,
   "metadata": {
    "collapsed": true
   },
   "outputs": [],
   "source": [
    "import os,re"
   ]
  },
  {
   "cell_type": "code",
   "execution_count": 30,
   "metadata": {},
   "outputs": [
    {
     "name": "stdout",
     "output_type": "stream",
     "text": [
      "[]\n",
      "0\n"
     ]
    }
   ],
   "source": [
    "files = os.listdir(\"./voice\")\n",
    "print(files)\n",
    "\n",
    "print(len(files))"
   ]
  },
  {
   "cell_type": "code",
   "execution_count": 28,
   "metadata": {},
   "outputs": [
    {
     "name": "stdout",
     "output_type": "stream",
     "text": [
      "[]\n"
     ]
    }
   ],
   "source": [
    "os.mkdir(\"./voice/new\")\n",
    "print(files)"
   ]
  },
  {
   "cell_type": "code",
   "execution_count": null,
   "metadata": {
    "collapsed": true
   },
   "outputs": [],
   "source": []
  }
 ],
 "metadata": {
  "kernelspec": {
   "display_name": "Python 3",
   "language": "python",
   "name": "python3"
  },
  "language_info": {
   "codemirror_mode": {
    "name": "ipython",
    "version": 3
   },
   "file_extension": ".py",
   "mimetype": "text/x-python",
   "name": "python",
   "nbconvert_exporter": "python",
   "pygments_lexer": "ipython3",
   "version": "3.5.3"
  }
 },
 "nbformat": 4,
 "nbformat_minor": 2
}
