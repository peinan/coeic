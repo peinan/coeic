{
 "cells": [
  {
   "cell_type": "code",
   "execution_count": 1,
   "metadata": {},
   "outputs": [
    {
     "name": "stdout",
     "output_type": "stream",
     "text": [
      "ああああああああ\n",
      "いいいいいいいいい\n",
      "うううううううううう\n"
     ]
    }
   ],
   "source": [
    "messages = [\"ああああああああ\", \"いいいいいいいいい\", \"うううううううううう\"]\n",
    "\n",
    "for message in messages:\n",
    "    print(message)"
   ]
  },
  {
   "cell_type": "code",
   "execution_count": 2,
   "metadata": {
    "collapsed": true
   },
   "outputs": [],
   "source": [
    "databodys = []\n",
    "\n",
    "for message in messages:\n",
    "    databody = {\"method\": \"speak\",\n",
    "                \"params\": [\"1.1\",\n",
    "                        {\"language\": \"ja\", \"text\":message,\n",
    "                            \"voiceType\": \"F117\", \"audioType\": \"audio/x-wav\"}]}\n",
    "    databodys.append(databody)"
   ]
  },
  {
   "cell_type": "code",
   "execution_count": 3,
   "metadata": {},
   "outputs": [
    {
     "name": "stdout",
     "output_type": "stream",
     "text": [
      "[{'method': 'speak', 'params': ['1.1', {'voiceType': 'F117', 'language': 'ja', 'audioType': 'audio/x-wav', 'text': 'ああああああああ'}]}, {'method': 'speak', 'params': ['1.1', {'voiceType': 'F117', 'language': 'ja', 'audioType': 'audio/x-wav', 'text': 'いいいいいいいいい'}]}, {'method': 'speak', 'params': ['1.1', {'voiceType': 'F117', 'language': 'ja', 'audioType': 'audio/x-wav', 'text': 'うううううううううう'}]}]\n"
     ]
    }
   ],
   "source": [
    "print(databodys)"
   ]
  },
  {
   "cell_type": "code",
   "execution_count": null,
   "metadata": {
    "collapsed": true
   },
   "outputs": [],
   "source": []
  }
 ],
 "metadata": {
  "kernelspec": {
   "display_name": "Python 3",
   "language": "python",
   "name": "python3"
  },
  "language_info": {
   "codemirror_mode": {
    "name": "ipython",
    "version": 3
   },
   "file_extension": ".py",
   "mimetype": "text/x-python",
   "name": "python",
   "nbconvert_exporter": "python",
   "pygments_lexer": "ipython3",
   "version": "3.5.3"
  }
 },
 "nbformat": 4,
 "nbformat_minor": 2
}
