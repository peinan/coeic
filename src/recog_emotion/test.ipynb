{
 "cells": [
  {
   "cell_type": "code",
   "execution_count": 1,
   "metadata": {
    "collapsed": true
   },
   "outputs": [],
   "source": [
    "import os"
   ]
  },
  {
   "cell_type": "code",
   "execution_count": 192,
   "metadata": {},
   "outputs": [],
   "source": [
    "ocr_texts = {\n",
    "        \"upload_img_path\": \"IMG_PATH\",\n",
    "        \"splited_frames\": [\n",
    "            {\n",
    "                \"frame_img\": \"1\",\n",
    "                \"extracted_balloons\": [\n",
    "                    {\n",
    "                        \"balloon_img\": \"1\",\n",
    "                        \"texts\": {\n",
    "                            \"text\": \"フレーム１のバルーン１\",\n",
    "                            }\n",
    "                        },\n",
    "                    {\n",
    "                        \"balloon_img\":\"2\",\n",
    "                        \"texts\":{\n",
    "                            \"text\":\"フレーム１のバルーン２\"\n",
    "                            }\n",
    "                        }\n",
    "                ]\n",
    "            },{\n",
    "                \"frame_img\": \"2\",\n",
    "                \"extracted_balloons\": [\n",
    "                    {\n",
    "                        \"balloon_img\": \"1\",\n",
    "                        \"texts\": {\n",
    "                            \"text\": \"フレーム２のバルーン1\",\n",
    "                            }\n",
    "                        },\n",
    "                    {\n",
    "                        \"balloon_img\": \"2\",\n",
    "                        \"texts\": {\n",
    "                            \"text\": \"フレーム２のバルーン1\",\n",
    "                        }\n",
    "                    }\n",
    "                ]\n",
    "            },{\n",
    "                \"frame_img\": \"3\",\n",
    "                \"extracted_balloons\": [\n",
    "                    {\n",
    "                        \"balloon_img\": \"1\",\n",
    "                        \"texts\": {\n",
    "                            \"text\": \"フレーム3のバルーン1\",\n",
    "                            }\n",
    "                        },\n",
    "                    {\n",
    "                        \"balloon_img\": \"2\",\n",
    "                        \"texts\": {\n",
    "                            \"text\": \"フレーム3のバルーン2\",\n",
    "                            }\n",
    "                        },\n",
    "                    {\n",
    "                        \"balloon_img\": \"3\",\n",
    "                        \"texts\": {\n",
    "                            \"text\": \"フレーム3のバルーン3\",\n",
    "                            }\n",
    "                        }\n",
    "                ]\n",
    "            }\n",
    "        ]\n",
    "    }"
   ]
  },
  {
   "cell_type": "code",
   "execution_count": 201,
   "metadata": {},
   "outputs": [
    {
     "name": "stdout",
     "output_type": "stream",
     "text": [
      "合計フレーム数: [0, 1, 2]\n",
      "３フレーム目のバルーンの数: 3\n",
      "[0, 1, 2]\n"
     ]
    }
   ],
   "source": [
    "\n",
    "nanko_frame = list(range(0,frame_number))\n",
    "print(\"合計フレーム数:\",nanko_frame)\n",
    "\n",
    "#3フレームに対応するバルーン番号1\n",
    "balloon_number  = ocr_texts[\"splited_frames\"][2][\"extracted_balloons\"][0][\"balloon_img\"]\n",
    "\n",
    "#３フレーム目のバルーンの数\n",
    "s = len(ocr_texts[\"splited_frames\"][2][\"extracted_balloons\"])\n",
    "print(\"３フレーム目のバルーンの数:\",s)\n",
    "\n",
    "#３フレーム目のバルーンの数を表す配列\n",
    "b3 = list(range(0, len(ocr_texts[\"splited_frames\"][2][\"extracted_balloons\"])))\n",
    "print(b3)"
   ]
  },
  {
   "cell_type": "code",
   "execution_count": 220,
   "metadata": {},
   "outputs": [
    {
     "name": "stdout",
     "output_type": "stream",
     "text": [
      "[2, 2, 3]\n"
     ]
    }
   ],
   "source": [
    "F = []\n",
    "B = []\n",
    "#TODO: [[フレーム１のバルーン], [フレーム２のバルーン], [フレーム３のバルーン]]\n",
    "for frame in nanko_frame:\n",
    "    #１個目のフレームの中に何個バルーンがあるか\n",
    "    s = len(ocr_texts[\"splited_frames\"][frame][\"extracted_balloons\"])\n",
    "    F.append(s)\n",
    "    \n",
    "\n",
    "print(F)"
   ]
  },
  {
   "cell_type": "code",
   "execution_count": 212,
   "metadata": {},
   "outputs": [
    {
     "name": "stdout",
     "output_type": "stream",
     "text": [
      "[{'extracted_balloons': [{'balloon_img': '1', 'texts': {'text': 'フレーム１のバルーン１'}}, {'balloon_img': '2', 'texts': {'text': 'フレーム１のバルーン２'}}], 'frame_img': '1'}, {'extracted_balloons': [{'balloon_img': '1', 'texts': {'text': 'フレーム２のバルーン1'}}, {'balloon_img': '2', 'texts': {'text': 'フレーム２のバルーン1'}}], 'frame_img': '2'}, {'extracted_balloons': [{'balloon_img': '1', 'texts': {'text': 'フレーム3のバルーン1'}}, {'balloon_img': '2', 'texts': {'text': 'フレーム3のバルーン2'}}, {'balloon_img': '2', 'texts': {'text': 'フレーム3のバルーン2'}}], 'frame_img': '3'}]\n"
     ]
    }
   ],
   "source": [
    "s= ocr_texts[\"splited_frames\"]\n",
    "print(s)"
   ]
  },
  {
   "cell_type": "code",
   "execution_count": 215,
   "metadata": {},
   "outputs": [
    {
     "name": "stdout",
     "output_type": "stream",
     "text": [
      "[2, 2, 3]\n"
     ]
    }
   ],
   "source": [
    "#n番目のフレームに何個バルーンがあるのか知りたい！！\n",
    "print(F)"
   ]
  },
  {
   "cell_type": "code",
   "execution_count": 221,
   "metadata": {},
   "outputs": [],
   "source": [
    "texts = []\n",
    "for n in range(0,len(ocr_texts[\"splited_frames\"])):\n",
    "    for k in range(0, F[n]):\n",
    "        texts.append(ocr_texts[\"splited_frames\"][n][\"extracted_balloons\"][k][\"texts\"][\"text\"])"
   ]
  },
  {
   "cell_type": "code",
   "execution_count": 222,
   "metadata": {},
   "outputs": [
    {
     "name": "stdout",
     "output_type": "stream",
     "text": [
      "['フレーム１のバルーン１', 'フレーム１のバルーン２', 'フレーム２のバルーン1', 'フレーム２のバルーン1', 'フレーム3のバルーン1', 'フレーム3のバルーン2', 'フレーム3のバルーン2']\n"
     ]
    }
   ],
   "source": [
    "\n",
    "print(texts)"
   ]
  },
  {
   "cell_type": "code",
   "execution_count": 227,
   "metadata": {},
   "outputs": [],
   "source": [
    "a = []\n",
    "for n in range(0,len(ocr_texts[\"splited_frames\"])):\n",
    "    for k in range(0, F[n]):\n",
    "        a.append(str(n+1) + \"-\" + str(k+1))\n",
    "        "
   ]
  },
  {
   "cell_type": "code",
   "execution_count": 228,
   "metadata": {},
   "outputs": [
    {
     "name": "stdout",
     "output_type": "stream",
     "text": [
      "['1-1', '1-2', '2-1', '2-2', '3-1', '3-2', '3-3']\n"
     ]
    }
   ],
   "source": [
    "print(a)"
   ]
  },
  {
   "cell_type": "code",
   "execution_count": null,
   "metadata": {
    "collapsed": true
   },
   "outputs": [],
   "source": [
    "#音源の個数　=　sum(バルーンの数 * フレームの数)"
   ]
  }
 ],
 "metadata": {
  "kernelspec": {
   "display_name": "Python 3",
   "language": "python",
   "name": "python3"
  },
  "language_info": {
   "codemirror_mode": {
    "name": "ipython",
    "version": 3
   },
   "file_extension": ".py",
   "mimetype": "text/x-python",
   "name": "python",
   "nbconvert_exporter": "python",
   "pygments_lexer": "ipython3",
   "version": "3.5.3"
  }
 },
 "nbformat": 4,
 "nbformat_minor": 2
}
